{
 "cells": [
  {
   "cell_type": "markdown",
   "metadata": {},
   "source": [
    "### 📌인스타그램 사이트 수집하기\n"
   ]
  },
  {
   "cell_type": "markdown",
   "metadata": {},
   "source": [
    "#### 아이디 비밀번호 자동 로그인 시키기\n",
    "\n",
    "- __❗ 페이지 로딩이 완료되지 않은 상태에서 element를 찾으면 에러가 발생 할 수 있다__   \n",
    "driver.implicitly_wait(5) : 대기시간을 5초로 설정하여 페이지 로딩이 5초 안에 완료되면 다음 코드 수행   \n",
    "비슷한 기능으로는 import time  (time.sleep(1))"
   ]
  },
  {
   "cell_type": "code",
   "execution_count": 15,
   "metadata": {},
   "outputs": [
    {
     "name": "stdout",
     "output_type": "stream",
     "text": [
      "\n"
     ]
    }
   ],
   "source": [
    "from selenium import webdriver\n",
    "from selenium.webdriver.support.ui import WebDriverWait \n",
    "from selenium.webdriver.common.keys import Keys\n",
    "\n",
    "driver = webdriver.Chrome('./chromedriver')\n",
    "\n",
    "try:\n",
    "    driver.get('https://www.instagram.com/')\n",
    "    driver.implicitly_wait(5)\n",
    "    elem = driver.find_element_by_class_name('yWX7d')\n",
    "    elem.click() #xpath이용 :driver.find_element_by_xpath(\"\"\"//*[@id=\"loginForm\"]/div/div[5]/button\"\"\").click(\n",
    "    \n",
    "    #페이스북 로그인\n",
    "    id=driver.find_element_by_id('email')\n",
    "    id.send_keys('<자신의 id>')\n",
    "    pwd=driver.find_element_by_id('pass')\n",
    "    pwd.send_keys('<자신의 pwd>')\n",
    "    loginbtn = driver.find_element_by_id('loginbutton')\n",
    "    loginbtn.send_keys(Keys.RETURN)  #RETURN은 키보드 enter를 의미\n",
    "    \n",
    "    \n",
    "    input()\n",
    "\n",
    "except Exception as e:\n",
    "    print(e)\n",
    "    \n",
    "finally:\n",
    "    driver.quit()"
   ]
  },
  {
   "cell_type": "markdown",
   "metadata": {},
   "source": [
    "#### 해쉬태그 검색하기\n",
    "\n",
    "- __❗ 페이지 로딩이 완료되지 않은 상태에서 element를 찾으면 에러가 발생 할 수 있다__   \n",
    "ActionChains 의 역할은 어떠한 동작을 전부 등록해놓은뒤 모든 동작이 완료되면 실행된다.   \n",
    "ac.perform()을 작성하여 동작이 모두 완료된 것을 알려준다\n"
   ]
  },
  {
   "cell_type": "code",
   "execution_count": 38,
   "metadata": {},
   "outputs": [
    {
     "name": "stdout",
     "output_type": "stream",
     "text": [
      "\n"
     ]
    }
   ],
   "source": [
    "from selenium import webdriver\n",
    "from selenium.webdriver.support.ui import WebDriverWait \n",
    "from selenium.webdriver.common.keys import Keys\n",
    "\n",
    "from selenium.webdriver.common.action_chains import ActionChains\n",
    "import time\n",
    "driver = webdriver.Chrome('./chromedriver')\n",
    "\n",
    "try:\n",
    "    driver.get('https://www.instagram.com/')\n",
    "    driver.implicitly_wait(5)\n",
    "    elem = driver.find_element_by_class_name('yWX7d')\n",
    "    elem.click() #xpath이용 :driver.find_element_by_xpath(\"\"\"//*[@id=\"loginForm\"]/div/div[5]/button\"\"\").click(\n",
    "    \n",
    "    #페이스북 로그인\n",
    "    id=driver.find_element_by_id('email')\n",
    "    id.send_keys('<자신의 id>')\n",
    "    pwd=driver.find_element_by_id('pass')\n",
    "    pwd.send_keys('<자신의 pwd>')\n",
    "    loginbtn = driver.find_element_by_id('loginbutton')\n",
    "    loginbtn.send_keys(Keys.RETURN)  #RETURN은 키보드 enter를 의미\n",
    "    \n",
    "    elem= driver.find_element_by_class_name('HoLwm')\n",
    "    elem.click()\n",
    "     #해쉬태그 검색\n",
    "    elem= driver.find_element_by_class_name('_0aCwM') \n",
    "    ac = ActionChains(driver)\n",
    "    ac.move_to_element(elem)\n",
    "    ac.click()\n",
    "    ac.send_keys('#치킨')  #key_down 무엇인가\n",
    "    ac.perform()\n",
    "    \n",
    "    time.sleep(2)\n",
    "    \n",
    "    ac.reset_actions() #ac 모두 리셋\n",
    "    ac.move_by_offset(0,50)\n",
    "    ac.click()\n",
    "    ac.perform()\n",
    "    \n",
    "    \n",
    "    \n",
    "    input()\n",
    "\n",
    "except Exception as e:\n",
    "    print(e)\n",
    "    \n",
    "finally:\n",
    "    driver.quit()"
   ]
  }
 ],
 "metadata": {
  "kernelspec": {
   "display_name": "Python 3",
   "language": "python",
   "name": "python3"
  },
  "language_info": {
   "codemirror_mode": {
    "name": "ipython",
    "version": 3
   },
   "file_extension": ".py",
   "mimetype": "text/x-python",
   "name": "python",
   "nbconvert_exporter": "python",
   "pygments_lexer": "ipython3",
   "version": "3.8.3"
  },
  "toc": {
   "base_numbering": 1,
   "nav_menu": {},
   "number_sections": true,
   "sideBar": true,
   "skip_h1_title": false,
   "title_cell": "Table of Contents",
   "title_sidebar": "Contents",
   "toc_cell": false,
   "toc_position": {},
   "toc_section_display": true,
   "toc_window_display": false
  }
 },
 "nbformat": 4,
 "nbformat_minor": 4
}
