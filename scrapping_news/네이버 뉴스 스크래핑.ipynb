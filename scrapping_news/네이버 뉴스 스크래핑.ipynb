{
 "cells": [
  {
   "cell_type": "code",
   "execution_count": 42,
   "metadata": {},
   "outputs": [
    {
     "name": "stdout",
     "output_type": "stream",
     "text": [
      "None\n"
     ]
    }
   ],
   "source": [
    "from bs4 import BeautifulSoup\n",
    "import requests\n",
    "import json\n",
    "import csv\n",
    "import datetime\n",
    "import time\n",
    "\n",
    "\n",
    "url = 'https://news.naver.com/main/main.naver?mode=LSD&mid=shm&sid1=100'\n",
    "r = requests.get(url, headers={'User-Agent':'Mozilla/5.0'})\n",
    "soup = BeautifulSoup(r.text, 'html.parser')\n",
    "div = soup.select_one('#section_body > ul.type06_headline')\n",
    "print(div)\n",
    "\n"
   ]
  },
  {
   "cell_type": "code",
   "execution_count": 41,
   "metadata": {},
   "outputs": [],
   "source": [
    "# for num in range(1,2):\n",
    "#     time.sleep(5)\n",
    "#     response = requests.get(f'https://www.insight.co.kr/section/money?page={num}')\n",
    "#     soup = BeautifulSoup(response.text, 'html.parser')\n",
    "\n",
    "#     # 메인 페이지 기사 ul\n",
    "#     ul = soup.select_one('body > div.content > div > div.section-wrap > div.section-list > ul')\n",
    "#     # 메인 페이지 기사리스트들 li\n",
    "#     lis = ul.select('li')\n",
    "#     # 현재 카테고리 네임\n",
    "#     category = soup.select_one('body > div.content > div > div.section-wrap > div.section-gnb > span')\n",
    "#     press = soup.select_one('body > div.content > div > div.section-wrap > div.section-gnb > a').text\n",
    "#     # 기사 리스트 for문\n",
    "#     # 프리뷰 기사 img, title, date가져옴\n",
    "ecd#     # 현재 카테고리 각각의 리스트에 함께 나오게 하기 위해 단순히 위에서 받은 new_category밑에다 써줌\n",
    "    \n",
    "#     for li in lis:\n",
    "#         cnt += 1\n",
    "#         preview_img = li.select_one('li > div > a.section-list-article-image')\n",
    "#         preview_img = preview_img['style'].split(\"(\")[1].split(')')[0]\n",
    "#         title = li.select_one('li > div > a.section-list-article-title').text.strip()\n",
    "#         news_category = category.text.split('>')[1].strip()\n",
    "#         date = li.select_one('li > div > span.section-list-article-byline')\n",
    "#         link = li.select_one('li > div > a.section-list-article-title')['href']\n",
    "#         code = link.split('/')[4]\n",
    "        \n",
    "#         # code로 내용을 가지고 오는대신 다시한번 requests와 parser이용\n",
    "#         news_url = requests.get(link)\n",
    "#         news_url_html = BeautifulSoup(news_url.text, 'html.parser')\n",
    "        \n",
    "#         # 세부 컨텐츠 안에 주요 내용 selector css         \n",
    "#         content = news_url_html.select_one('body > div.content > div > div.news-container > div.news-wrap > div.news-article > div.news-article-memo')\n",
    "#         # 세부 컨텐츠 안에 이미지, 이미지 여러개이므로 list에 담아줌\n",
    "#         news_image = content.select('img')\n",
    "#         image_url_list = []\n",
    "#         try:\n",
    "#             for image in news_image:\n",
    "#                 image_url_list.append(image['src'])\n",
    "\n",
    "#             # 기자 이름이 날짜와 함께 나오는 경우가 있음 \\\".\\\" 이 있는 경우는 기자 네임이 있는 경우라 .을 기준으로 나누어서 날짜만 가져옴\n",
    "#             if '·' in date.text:\n",
    "#                 date = date.text.strip().split('·')[1]\n",
    "\n",
    "#             else:\n",
    "#                 date = date.text.strip()\n",
    "#                 print(date)\n",
    "#             date_list = date.replace(' ','-').split('-')\n",
    "#             date_list = ' '.join(date_list).split()\n",
    "#             print(date_list)\n",
    "#             date_list = date_list[0]+'-'+date_list[1]+'-'+date_list[2]+' '+date_list[3]\n",
    "#             print(date_list)\n",
    "#             date_code = datetime.datetime.strptime(date_list,'%Y-%m-%d %H:%M:%S')\n",
    "#     #         print(datetime.datetime.strptime(date_list,'%Y%m%d%H%M%S'))\n",
    "#             print(type(date_code))\n",
    "\n"
   ]
  },
  {
   "cell_type": "code",
   "execution_count": null,
   "metadata": {},
   "outputs": [],
   "source": []
  }
 ],
 "metadata": {
  "kernelspec": {
   "display_name": "Python 3",
   "language": "python",
   "name": "python3"
  },
  "language_info": {
   "codemirror_mode": {
    "name": "ipython",
    "version": 3
   },
   "file_extension": ".py",
   "mimetype": "text/x-python",
   "name": "python",
   "nbconvert_exporter": "python",
   "pygments_lexer": "ipython3",
   "version": "3.7.3"
  }
 },
 "nbformat": 4,
 "nbformat_minor": 2
}
