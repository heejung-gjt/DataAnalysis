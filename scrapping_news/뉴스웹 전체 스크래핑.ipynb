{
 "cells": [
  {
   "cell_type": "code",
   "execution_count": 1,
   "metadata": {},
   "outputs": [
    {
     "ename": "IndentationError",
     "evalue": "expected an indented block (<ipython-input-1-1291d8fb87cc>, line 9)",
     "output_type": "error",
     "traceback": [
      "\u001b[0;36m  File \u001b[0;32m\"<ipython-input-1-1291d8fb87cc>\"\u001b[0;36m, line \u001b[0;32m9\u001b[0m\n\u001b[0;31m    response = requests.get(f'https://www.insight.co.kr/section/politics?page={num}')\u001b[0m\n\u001b[0m           ^\u001b[0m\n\u001b[0;31mIndentationError\u001b[0m\u001b[0;31m:\u001b[0m expected an indented block\n"
     ]
    }
   ],
   "source": [
    "\n",
    "# 인사이트 컨텐츠 정치 전체적인 html 크롤링\n",
    "\n",
    "import requests\n",
    "from bs4 import BeautifulSoup\n",
    "\n",
    "\n",
    "for num in range(16):\n",
    "response = requests.get(f'https://www.insight.co.kr/section/politics?page={num}')\n",
    "soup = BeautifulSoup(response.text 'html.parser')\n",
    "\n",
    "# 메인 페이지에 있는 뉴스 ul문\n",
    "ul = soup.select_one('body > div.content > div > div.section-wrap > div.section-list > ul')\n",
    "# 메인 페이지에 있는 뉴스 리스트들\n",
    "lis = ul.select('li')\n",
    "\n",
    "# 뉴스기사 list for문\n",
    "for li in lis:\n",
    "    #뉴스기사 세부 내용 들어갈 수 있는 a링크 가져오기     \n",
    "    url = li.select_one('div > a.section-list-article-title')['href']\n",
    "\n",
    "    #뉴스기사 상세페이지 접속 다시한번 requestbeautifulsoup써서 html parser한 후 해당되는 html가져오기\n",
    "    #raw_each는 뉴스기사 상세페이지 url html_each는 상세페이지 html.parser진행     \n",
    "    raw_each = requests.get(url)\n",
    "    html_each = BeautifulSoup(raw_each.text 'html.parser')\n",
    "    #select_one써서 title html형태 가져오기(.text찍으면 컨텐츠만 가져올 수 있음)     \n",
    "    print(html_each.select_one('body > div.content > div > div.news-container > div.news-header'))\n",
    "    #select_one써서 contentimg부분 html형태로 가져오기(.text찍으면 img는 가져올 수 없음 img는['src'])     \n",
    "    print(html_each.select_one('body > div.content > div > div.news-container > div.news-wrap > div.news-article > div.news-article-memo'))\n",
    "    print()\n",
    "    print()"
   ]
  },
  {
   "cell_type": "code",
   "execution_count": null,
   "metadata": {},
   "outputs": [],
   "source": []
  }
 ],
 "metadata": {
  "interpreter": {
   "hash": "916dbcbb3f70747c44a77c7bcd40155683ae19c65e1c03b4aa3499c5328201f1"
  },
  "kernelspec": {
   "display_name": "Python 3",
   "language": "python",
   "name": "python3"
  },
  "language_info": {
   "codemirror_mode": {
    "name": "ipython",
    "version": 3
   },
   "file_extension": ".py",
   "mimetype": "text/x-python",
   "name": "python",
   "nbconvert_exporter": "python",
   "pygments_lexer": "ipython3",
   "version": "3.7.3"
  }
 },
 "nbformat": 4,
 "nbformat_minor": 2
}
